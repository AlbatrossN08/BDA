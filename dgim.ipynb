{
  "nbformat": 4,
  "nbformat_minor": 0,
  "metadata": {
    "colab": {
      "provenance": [],
      "authorship_tag": "ABX9TyMnturu1VQCRSolSTi4mxYz",
      "include_colab_link": true
    },
    "kernelspec": {
      "name": "python3",
      "display_name": "Python 3"
    },
    "language_info": {
      "name": "python"
    }
  },
  "cells": [
    {
      "cell_type": "markdown",
      "metadata": {
        "id": "view-in-github",
        "colab_type": "text"
      },
      "source": [
        "<a href=\"https://colab.research.google.com/github/Rcodeviva/BDA/blob/main/dgim.ipynb\" target=\"_parent\"><img src=\"https://colab.research.google.com/assets/colab-badge.svg\" alt=\"Open In Colab\"/></a>"
      ]
    },
    {
      "cell_type": "code",
      "execution_count": 1,
      "metadata": {
        "colab": {
          "base_uri": "https://localhost:8080/"
        },
        "id": "rclBgzT4OGZr",
        "outputId": "8372f93e-a717-4750-fa9f-4690ea36e5ff"
      },
      "outputs": [
        {
          "output_type": "stream",
          "name": "stdout",
          "text": [
            "Collecting dgim\n",
            "  Downloading dgim-0.2.0.tar.gz (17 kB)\n",
            "  Preparing metadata (setup.py) ... \u001b[?25l\u001b[?25hdone\n",
            "Building wheels for collected packages: dgim\n",
            "  Building wheel for dgim (setup.py) ... \u001b[?25l\u001b[?25hdone\n",
            "  Created wheel for dgim: filename=dgim-0.2.0-py2.py3-none-any.whl size=6087 sha256=af160a96eb13a15f5f1125144037297287e2b8d29e63c9aeb1cf09cfa0a17fa7\n",
            "  Stored in directory: /root/.cache/pip/wheels/9d/e5/0d/a7f4c0eb6b04dd09dc006b0f00d168107e2907ebd1cda88718\n",
            "Successfully built dgim\n",
            "Installing collected packages: dgim\n",
            "Successfully installed dgim-0.2.0\n"
          ]
        }
      ],
      "source": [
        "!pip install dgim"
      ]
    },
    {
      "cell_type": "code",
      "source": [
        "from dgim import Dgim\n",
        "\n",
        "# Create a new DGIM object\n",
        "dgim= Dgim(N=32, error_rate=0.1)\n",
        "for i in range(100):\n",
        "  # Update the DGIM object with some new bits\n",
        "  dgim.update(True)\n",
        "  dgim.update(True)\n",
        "  dgim.update(False)\n",
        "\n",
        "\n",
        "#no. of 1s in the window\n",
        "count = dgim.get_count()\n",
        "\n",
        "print(count)\n"
      ],
      "metadata": {
        "colab": {
          "base_uri": "https://localhost:8080/"
        },
        "id": "AarB_vT0PhwP",
        "outputId": "3cce3e5d-fad6-4898-8ff4-8605b9f492c8"
      },
      "execution_count": 11,
      "outputs": [
        {
          "output_type": "stream",
          "name": "stdout",
          "text": [
            "21\n"
          ]
        }
      ]
    }
  ]
}