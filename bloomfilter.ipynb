{
  "nbformat": 4,
  "nbformat_minor": 0,
  "metadata": {
    "colab": {
      "provenance": [],
      "authorship_tag": "ABX9TyOhYVtzmpEBGpcuz342C0Xj",
      "include_colab_link": true
    },
    "kernelspec": {
      "name": "python3",
      "display_name": "Python 3"
    },
    "language_info": {
      "name": "python"
    }
  },
  "cells": [
    {
      "cell_type": "markdown",
      "metadata": {
        "id": "view-in-github",
        "colab_type": "text"
      },
      "source": [
        "<a href=\"https://colab.research.google.com/github/Rcodeviva/BDA/blob/main/bloomfilter.ipynb\" target=\"_parent\"><img src=\"https://colab.research.google.com/assets/colab-badge.svg\" alt=\"Open In Colab\"/></a>"
      ]
    },
    {
      "cell_type": "code",
      "execution_count": null,
      "metadata": {
        "colab": {
          "base_uri": "https://localhost:8080/"
        },
        "id": "f316V-KDLdGT",
        "outputId": "adfac940-ff96-4984-fa65-8580d4b34a99"
      },
      "outputs": [
        {
          "output_type": "stream",
          "name": "stdout",
          "text": [
            "True\n"
          ]
        }
      ],
      "source": [
        "class BloomFilter:\n",
        "    def __init__(self, size, num_hash_functions=1):\n",
        "        self.size = size\n",
        "        self.bit_array = [0] * size\n",
        "        self.num_hash_functions = num_hash_functions\n",
        "        self.count = 0\n",
        "\n",
        "    def hash(self, item):\n",
        "        # Use a hash function to map the item to a bit index\n",
        "        hash_value = hash(item) % self.size\n",
        "        return hash_value\n",
        "\n",
        "    def add(self, item):\n",
        "        # Set the corresponding bit in the bit array for the item\n",
        "        for i in range(self.num_hash_functions):\n",
        "            bit_index = self.hash(item) % self.size\n",
        "            self.bit_array[bit_index] = 1\n",
        "        self.count += 1\n",
        "\n",
        "    def check(self, item):\n",
        "        # Check if the corresponding bit in the bit array is set for the item\n",
        "        bit_index = self.hash(item) % self.size\n",
        "        return self.bit_array[bit_index] == 1\n",
        "\n",
        "bloom_filter = BloomFilter(1000)\n",
        "\n",
        "# Add some items to the Bloom filter\n",
        "bloom_filter.add(\"apple\")\n",
        "bloom_filter.add(\"banana\")\n",
        "bloom_filter.add(\"orange\")\n",
        "\n",
        "# Check if an item is in the Bloom filter\n",
        "is_in_filter = bloom_filter.check(\"apple\")\n",
        "\n",
        "print(is_in_filter)\n"
      ]
    }
  ]
}